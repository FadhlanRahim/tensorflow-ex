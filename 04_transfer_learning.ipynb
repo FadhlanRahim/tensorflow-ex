{
  "nbformat": 4,
  "nbformat_minor": 0,
  "metadata": {
    "colab": {
      "name": "04_transfer_learning.ipynb",
      "provenance": [],
      "toc_visible": true
    },
    "kernelspec": {
      "name": "python3",
      "display_name": "Python 3"
    },
    "language_info": {
      "name": "python"
    },
    "accelerator": "GPU"
  },
  "cells": [
    {
      "cell_type": "markdown",
      "metadata": {
        "id": "iceIGNrrL9KT"
      },
      "source": [
        "# Transfer Learning with Tensorflow : Feature Extraction\n",
        "\n",
        "Leveraging a working model's existing architecture and learned patter for our own problem.\n",
        "\n",
        "benefits :\n",
        "1. can leverage an existing neural network architecture proven to work on problem similar to our own\n",
        "2. can leverage a woking NN architecture which has already learned pattern on similar data to our own, can be adapted those pattern to our data."
      ]
    },
    {
      "cell_type": "code",
      "metadata": {
        "colab": {
          "base_uri": "https://localhost:8080/"
        },
        "id": "XQtt0tVLTsWt",
        "outputId": "e51bc5f6-64a5-49ef-cbc6-835134731b4c"
      },
      "source": [
        "!nvidia-smi"
      ],
      "execution_count": 2,
      "outputs": [
        {
          "output_type": "stream",
          "text": [
            "Sun May 23 09:56:10 2021       \n",
            "+-----------------------------------------------------------------------------+\n",
            "| NVIDIA-SMI 465.19.01    Driver Version: 460.32.03    CUDA Version: 11.2     |\n",
            "|-------------------------------+----------------------+----------------------+\n",
            "| GPU  Name        Persistence-M| Bus-Id        Disp.A | Volatile Uncorr. ECC |\n",
            "| Fan  Temp  Perf  Pwr:Usage/Cap|         Memory-Usage | GPU-Util  Compute M. |\n",
            "|                               |                      |               MIG M. |\n",
            "|===============================+======================+======================|\n",
            "|   0  Tesla K80           Off  | 00000000:00:04.0 Off |                    0 |\n",
            "| N/A   33C    P8    26W / 149W |      0MiB / 11441MiB |      0%      Default |\n",
            "|                               |                      |                  N/A |\n",
            "+-------------------------------+----------------------+----------------------+\n",
            "                                                                               \n",
            "+-----------------------------------------------------------------------------+\n",
            "| Processes:                                                                  |\n",
            "|  GPU   GI   CI        PID   Type   Process name                  GPU Memory |\n",
            "|        ID   ID                                                   Usage      |\n",
            "|=============================================================================|\n",
            "|  No running processes found                                                 |\n",
            "+-----------------------------------------------------------------------------+\n"
          ],
          "name": "stdout"
        }
      ]
    },
    {
      "cell_type": "code",
      "metadata": {
        "colab": {
          "base_uri": "https://localhost:8080/"
        },
        "id": "0WZ2mVcgTvkF",
        "outputId": "24ca4e41-0fe3-4cd5-8a43-a0a1ab74c866"
      },
      "source": [
        "import zipfile\n",
        "!wget https://storage.googleapis.com/ztm_tf_course/food_vision/10_food_classes_10_percent.zip #only contains 10% of our original data, if we train our own model with this amount of data, it most likely to perform worse than our latest model, acc : 40%\n",
        "\n",
        "zip_ref = zipfile.ZipFile('10_food_classes_10_percent.zip')\n",
        "zip_ref.extractall()\n",
        "zip_ref.close()"
      ],
      "execution_count": 3,
      "outputs": [
        {
          "output_type": "stream",
          "text": [
            "--2021-05-23 09:56:11--  https://storage.googleapis.com/ztm_tf_course/food_vision/10_food_classes_10_percent.zip\n",
            "Resolving storage.googleapis.com (storage.googleapis.com)... 74.125.140.128, 108.177.15.128, 173.194.76.128, ...\n",
            "Connecting to storage.googleapis.com (storage.googleapis.com)|74.125.140.128|:443... connected.\n",
            "HTTP request sent, awaiting response... 200 OK\n",
            "Length: 168546183 (161M) [application/zip]\n",
            "Saving to: ‘10_food_classes_10_percent.zip’\n",
            "\n",
            "10_food_classes_10_ 100%[===================>] 160.74M  11.0MB/s    in 17s     \n",
            "\n",
            "2021-05-23 09:56:29 (9.50 MB/s) - ‘10_food_classes_10_percent.zip’ saved [168546183/168546183]\n",
            "\n"
          ],
          "name": "stdout"
        }
      ]
    },
    {
      "cell_type": "code",
      "metadata": {
        "colab": {
          "base_uri": "https://localhost:8080/"
        },
        "id": "h2Ir8IXyVE4m",
        "outputId": "f4f0667d-8484-42af-91a2-aa4893664ff4"
      },
      "source": [
        "import os\n",
        "\n",
        "for dirpath, dirnames, filenames in os.walk(\"10_food_classes_10_percent\"):\n",
        "  print(f\"There are {len(dirnames)} directories and {len(filenames)} images in '{dirpath}'.\")"
      ],
      "execution_count": 4,
      "outputs": [
        {
          "output_type": "stream",
          "text": [
            "There are 2 directories and 0 images in '10_food_classes_10_percent'.\n",
            "There are 10 directories and 0 images in '10_food_classes_10_percent/test'.\n",
            "There are 0 directories and 250 images in '10_food_classes_10_percent/test/ice_cream'.\n",
            "There are 0 directories and 250 images in '10_food_classes_10_percent/test/fried_rice'.\n",
            "There are 0 directories and 250 images in '10_food_classes_10_percent/test/chicken_wings'.\n",
            "There are 0 directories and 250 images in '10_food_classes_10_percent/test/sushi'.\n",
            "There are 0 directories and 250 images in '10_food_classes_10_percent/test/steak'.\n",
            "There are 0 directories and 250 images in '10_food_classes_10_percent/test/chicken_curry'.\n",
            "There are 0 directories and 250 images in '10_food_classes_10_percent/test/grilled_salmon'.\n",
            "There are 0 directories and 250 images in '10_food_classes_10_percent/test/hamburger'.\n",
            "There are 0 directories and 250 images in '10_food_classes_10_percent/test/ramen'.\n",
            "There are 0 directories and 250 images in '10_food_classes_10_percent/test/pizza'.\n",
            "There are 10 directories and 0 images in '10_food_classes_10_percent/train'.\n",
            "There are 0 directories and 75 images in '10_food_classes_10_percent/train/ice_cream'.\n",
            "There are 0 directories and 75 images in '10_food_classes_10_percent/train/fried_rice'.\n",
            "There are 0 directories and 75 images in '10_food_classes_10_percent/train/chicken_wings'.\n",
            "There are 0 directories and 75 images in '10_food_classes_10_percent/train/sushi'.\n",
            "There are 0 directories and 75 images in '10_food_classes_10_percent/train/steak'.\n",
            "There are 0 directories and 75 images in '10_food_classes_10_percent/train/chicken_curry'.\n",
            "There are 0 directories and 75 images in '10_food_classes_10_percent/train/grilled_salmon'.\n",
            "There are 0 directories and 75 images in '10_food_classes_10_percent/train/hamburger'.\n",
            "There are 0 directories and 75 images in '10_food_classes_10_percent/train/ramen'.\n",
            "There are 0 directories and 75 images in '10_food_classes_10_percent/train/pizza'.\n"
          ],
          "name": "stdout"
        }
      ]
    },
    {
      "cell_type": "code",
      "metadata": {
        "colab": {
          "base_uri": "https://localhost:8080/"
        },
        "id": "6RKhevbeWLiO",
        "outputId": "f494f634-a7ab-44a5-8ae0-7cd713f1ed07"
      },
      "source": [
        "from tensorflow.keras.preprocessing.image import ImageDataGenerator\n",
        "\n",
        "image_shape = (224,224)\n",
        "batch_size = 32\n",
        "\n",
        "traindir = '10_food_classes_10_percent/train/'\n",
        "testdir = '10_food_classes_10_percent/test/'\n",
        "\n",
        "train_datagen = ImageDataGenerator(rescale=1/225.)\n",
        "test_datagen = ImageDataGenerator(rescale=1/225.)\n",
        "\n",
        "train_data_10_percent = train_datagen.flow_from_directory(traindir,\n",
        "                                                          target_size = image_shape,\n",
        "                                                          batch_size = batch_size,\n",
        "                                                          class_mode = 'categorical')\n",
        "\n",
        "test_data = train_datagen.flow_from_directory(testdir,\n",
        "                                                          target_size = image_shape,\n",
        "                                                          batch_size = batch_size,\n",
        "                                                          class_mode = 'categorical')"
      ],
      "execution_count": 19,
      "outputs": [
        {
          "output_type": "stream",
          "text": [
            "Found 750 images belonging to 10 classes.\n",
            "Found 2500 images belonging to 10 classes.\n"
          ],
          "name": "stdout"
        }
      ]
    },
    {
      "cell_type": "markdown",
      "metadata": {
        "id": "q6QgwGB2Xn_u"
      },
      "source": [
        "# setting up callbacks (things to run whilst our model trains)\n",
        "\n",
        "callbacks are extra function you can add to models to be performed during or after training. some popular callbacks :\n",
        "\n",
        "* Tracking with TensorBoard\n",
        "* Model checkpoint with the modelCheckpoint to save model at some point\n",
        "* Early stopping to stop training when metric stops improving"
      ]
    },
    {
      "cell_type": "code",
      "metadata": {
        "id": "xSUXKdhFo30q"
      },
      "source": [
        "# TensorBoard Callback\n",
        "import datetime\n",
        "\n",
        "def create_tensorboard_callback(dir_name, experiment_name):\n",
        "  log_dir = dir_name + '/' + experiment_name + '/' + datetime.datetime.now().strftime('%Y%m%d-%H%M%S')\n",
        "  tensorboard_callback = tf.keras.callbacks.TensorBoard(log_dir=log_dir)\n",
        "  return tensorboard_callback"
      ],
      "execution_count": 6,
      "outputs": []
    },
    {
      "cell_type": "markdown",
      "metadata": {
        "id": "2Euptka-poGv"
      },
      "source": [
        "becauase we are mostlikely to run multiple experiment, its good idead to be able to track them.\n",
        "\n",
        "our function saves model performance in directory named [dir_name]/[experiment_name]/[current_timestamp], where:\n",
        "\n",
        "- dir_name is the overall logs directory\n",
        "- experiment_name is the particular experiment\n",
        "- current_timestamp is the time the experiment started based on Python's datetime.datetime().now()"
      ]
    },
    {
      "cell_type": "markdown",
      "metadata": {
        "id": "VgyddNMgqD7n"
      },
      "source": [
        "# Creating models uising tensorflow hub\n",
        "\n",
        "instead building model and training from scratch, we are going to use existing model from tensorflow hub, for example : ResNetV2, EfficientNet, MobileNet, many more, explore tfhub.dev."
      ]
    },
    {
      "cell_type": "code",
      "metadata": {
        "id": "q3BxqxsxrXXv"
      },
      "source": [
        "import tensorflow as tf\n",
        "import tensorflow_hub as hub\n",
        "from tensorflow.keras import layers"
      ],
      "execution_count": 7,
      "outputs": []
    },
    {
      "cell_type": "code",
      "metadata": {
        "id": "1t6oo_uMsk1g"
      },
      "source": [
        "# Resnet 50 V2 feature vector\n",
        "resnet_url = \"https://tfhub.dev/google/imagenet/resnet_v2_50/feature_vector/5\"\n",
        "\n",
        "# EfficientNet0 feature vector\n",
        "efficientnet_url = \"https://tfhub.dev/tensorflow/efficientnet/b0/feature-vector/1\""
      ],
      "execution_count": 8,
      "outputs": []
    },
    {
      "cell_type": "code",
      "metadata": {
        "id": "778EZRl0snIw"
      },
      "source": [
        "def buildmodel(model_url, num_classes=10):\n",
        "  feature_extractor_layer = hub.KerasLayer(model_url,\n",
        "                                           trainable=False, # freeze the underlying patterns, so we dont change any parameter on the model\n",
        "                                           name='feature_extraction_layer',\n",
        "                                           input_shape=image_shape+(3,)) # define the input image shape\n",
        "  \n",
        "  # Create our own model\n",
        "  model = tf.keras.Sequential([\n",
        "    feature_extractor_layer, # use the feature extraction layer as the base\n",
        "    layers.Dense(num_classes, activation='softmax', name='output_layer') # create our own output layer      \n",
        "  ])\n",
        "\n",
        "  return model"
      ],
      "execution_count": 15,
      "outputs": []
    },
    {
      "cell_type": "markdown",
      "metadata": {
        "id": "SGRXVnr4ts7l"
      },
      "source": [
        "now we have function to instiate model, lets build it"
      ]
    },
    {
      "cell_type": "code",
      "metadata": {
        "id": "Wy5K605ztyYg"
      },
      "source": [
        "# Create model\n",
        "resnetmodel = buildmodel(resnet_url, num_classes=train_data_10_percent.num_classes)\n",
        "\n",
        "# Compile\n",
        "resnetmodel.compile(loss='categorical_crossentropy',\n",
        "                     optimizer=tf.keras.optimizers.Adam(),\n",
        "                     metrics=['accuracy'])"
      ],
      "execution_count": 17,
      "outputs": []
    },
    {
      "cell_type": "markdown",
      "metadata": {
        "id": "HqptYT-cuXZz"
      },
      "source": [
        "# Fitting Model"
      ]
    },
    {
      "cell_type": "code",
      "metadata": {
        "colab": {
          "base_uri": "https://localhost:8080/"
        },
        "id": "SLDYalV6uYV7",
        "outputId": "e47a596f-ffa1-4cb4-89b0-e44425f61245"
      },
      "source": [
        "resnethistory = resnet_model.fit(train_data_10_percent,\n",
        "                                  epochs=5,\n",
        "                                  steps_per_epoch=len(train_data_10_percent),\n",
        "                                  validation_data=test_data,\n",
        "                                  validation_steps=len(test_data),\n",
        "                                  # Add TensorBoard callback to model (callbacks parameter takes a list)\n",
        "                                  callbacks=[create_tensorboard_callback(dir_name=\"tensorflow_hub\", # save experiment logs here\n",
        "                                                                         experiment_name=\"resnet50V2\")]) # name of log files"
      ],
      "execution_count": 20,
      "outputs": [
        {
          "output_type": "stream",
          "text": [
            "Epoch 1/5\n",
            "24/24 [==============================] - 59s 1s/step - loss: 2.5209 - accuracy: 0.1754 - val_loss: 1.3579 - val_accuracy: 0.5564\n",
            "Epoch 2/5\n",
            "24/24 [==============================] - 21s 906ms/step - loss: 1.1111 - accuracy: 0.6546 - val_loss: 0.8947 - val_accuracy: 0.7252\n",
            "Epoch 3/5\n",
            "24/24 [==============================] - 21s 907ms/step - loss: 0.7052 - accuracy: 0.8088 - val_loss: 0.7665 - val_accuracy: 0.7608\n",
            "Epoch 4/5\n",
            "24/24 [==============================] - 21s 901ms/step - loss: 0.5522 - accuracy: 0.8569 - val_loss: 0.7254 - val_accuracy: 0.7756\n",
            "Epoch 5/5\n",
            "24/24 [==============================] - 21s 908ms/step - loss: 0.3884 - accuracy: 0.9088 - val_loss: 0.7020 - val_accuracy: 0.7748\n"
          ],
          "name": "stdout"
        }
      ]
    },
    {
      "cell_type": "markdown",
      "metadata": {
        "id": "Pm2MAV__vJHz"
      },
      "source": [
        "with only 5 epochs and only 10% of our data, the model achieved 90% on trainset and 77% on test set, much better than any model we created before."
      ]
    },
    {
      "cell_type": "code",
      "metadata": {
        "id": "-CRgjcZpvUUE"
      },
      "source": [
        "import matplotlib.pyplot as plt\n",
        "\n",
        "# Plot the validation and training data separately\n",
        "def plotcurves(history):\n",
        "  loss = history.history['loss']\n",
        "  val_loss = history.history['val_loss']\n",
        "\n",
        "  accuracy = history.history['accuracy']\n",
        "  val_accuracy = history.history['val_accuracy']\n",
        "\n",
        "  epochs = range(len(history.history['loss']))\n",
        "\n",
        "  # Plot loss\n",
        "  plt.plot(epochs, loss, label='training_loss')\n",
        "  plt.plot(epochs, val_loss, label='val_loss')\n",
        "  plt.title('Loss')\n",
        "  plt.xlabel('Epochs')\n",
        "  plt.legend()\n",
        "\n",
        "  # Plot accuracy\n",
        "  plt.figure()\n",
        "  plt.plot(epochs, accuracy, label='training_accuracy')\n",
        "  plt.plot(epochs, val_accuracy, label='val_accuracy')\n",
        "  plt.title('Accuracy')\n",
        "  plt.xlabel('Epochs')\n",
        "  plt.legend();"
      ],
      "execution_count": 21,
      "outputs": []
    },
    {
      "cell_type": "code",
      "metadata": {
        "colab": {
          "base_uri": "https://localhost:8080/",
          "height": 573
        },
        "id": "28Gtcl67vhVL",
        "outputId": "51d3a776-fbce-4d1a-b666-777297ab93db"
      },
      "source": [
        "plotcurves(resnethistory)"
      ],
      "execution_count": 22,
      "outputs": [
        {
          "output_type": "display_data",
          "data": {
            "image/png": "[encoded data removed]",
            "text/plain": [
              "<Figure size 432x288 with 1 Axes>"
            ]
          },
          "metadata": {
            "tags": [],
            "needs_background": "light"
          }
        },
        {
          "output_type": "display_data",
          "data": {
            "image/png": "[encoded data removed]",
            "text/plain": [
              "<Figure size 432x288 with 1 Axes>"
            ]
          },
          "metadata": {
            "tags": [],
            "needs_background": "light"
          }
        }
      ]
    },
    {
      "cell_type": "markdown",
      "metadata": {
        "id": "3qedMb6Iv12i"
      },
      "source": [
        "lets try using efficientnet"
      ]
    },
    {
      "cell_type": "code",
      "metadata": {
        "colab": {
          "base_uri": "https://localhost:8080/"
        },
        "id": "gNSUABv2v3me",
        "outputId": "e16372e0-a8de-42e2-93cb-ee58ef4415d5"
      },
      "source": [
        "# Create model\n",
        "efficientnetmodel = buildmodel(model_url=efficientnet_url, # use EfficientNetB0 TensorFlow Hub URL\n",
        "                                  num_classes=train_data_10_percent.num_classes)\n",
        "\n",
        "# Compile EfficientNet model\n",
        "efficientnetmodel.compile(loss='categorical_crossentropy',\n",
        "                           optimizer=tf.keras.optimizers.Adam(),\n",
        "                           metrics=['accuracy'])\n",
        "\n",
        "# Fit EfficientNet model \n",
        "efficientnethistory = efficientnetmodel.fit(train_data_10_percent, # only use 10% of training data\n",
        "                                              epochs=5, # train for 5 epochs\n",
        "                                              steps_per_epoch=len(train_data_10_percent),\n",
        "                                              validation_data=test_data,\n",
        "                                              validation_steps=len(test_data),\n",
        "                                              callbacks=[create_tensorboard_callback(dir_name=\"tensorflow_hub\", \n",
        "                                                                                     # Track logs under different experiment name\n",
        "                                                                                     experiment_name=\"efficientnetB0\")])"
      ],
      "execution_count": 23,
      "outputs": [
        {
          "output_type": "stream",
          "text": [
            "Epoch 1/5\n",
            "24/24 [==============================] - 33s 988ms/step - loss: 2.1114 - accuracy: 0.2695 - val_loss: 1.3299 - val_accuracy: 0.7108\n",
            "Epoch 2/5\n",
            "24/24 [==============================] - 19s 824ms/step - loss: 1.1883 - accuracy: 0.7641 - val_loss: 0.9001 - val_accuracy: 0.8084\n",
            "Epoch 3/5\n",
            "24/24 [==============================] - 19s 814ms/step - loss: 0.8384 - accuracy: 0.8165 - val_loss: 0.7298 - val_accuracy: 0.8308\n",
            "Epoch 4/5\n",
            "24/24 [==============================] - 19s 810ms/step - loss: 0.6344 - accuracy: 0.8627 - val_loss: 0.6405 - val_accuracy: 0.8444\n",
            "Epoch 5/5\n",
            "24/24 [==============================] - 19s 809ms/step - loss: 0.5618 - accuracy: 0.8742 - val_loss: 0.5874 - val_accuracy: 0.8536\n"
          ],
          "name": "stdout"
        }
      ]
    },
    {
      "cell_type": "code",
      "metadata": {
        "colab": {
          "base_uri": "https://localhost:8080/",
          "height": 573
        },
        "id": "aqUG985DwA1W",
        "outputId": "d3287983-8835-4cd9-ce71-c2d36a69c343"
      },
      "source": [
        "plotcurves(efficientnethistory)"
      ],
      "execution_count": 24,
      "outputs": [
        {
          "output_type": "display_data",
          "data": {
            "image/png": "[encoded data removed]",
            "text/plain": [
              "<Figure size 432x288 with 1 Axes>"
            ]
          },
          "metadata": {
            "tags": [],
            "needs_background": "light"
          }
        },
        {
          "output_type": "display_data",
          "data": {
            "image/png": "[encoded data removed]",
            "text/plain": [
              "<Figure size 432x288 with 1 Axes>"
            ]
          },
          "metadata": {
            "tags": [],
            "needs_background": "light"
          }
        }
      ]
    },
    {
      "cell_type": "markdown",
      "metadata": {
        "id": "FpSpdD7xwDtw"
      },
      "source": [
        "even better, remember we only use 10% of our data, imagine if we use all the data we have, train for longer."
      ]
    },
    {
      "cell_type": "code",
      "metadata": {
        "colab": {
          "base_uri": "https://localhost:8080/"
        },
        "id": "n2fvsdTlw1Jh",
        "outputId": "b7ffad88-7f1d-45d2-addd-2d259ba88036"
      },
      "source": [
        "resnetmodel.evaluate(test_data)\n",
        "efficientnetmodel.evaluate(test_data)"
      ],
      "execution_count": 25,
      "outputs": [
        {
          "output_type": "stream",
          "text": [
            "79/79 [==============================] - 18s 213ms/step - loss: 2.8517 - accuracy: 0.0846\n",
            "79/79 [==============================] - 15s 188ms/step - loss: 0.5874 - accuracy: 0.8536\n"
          ],
          "name": "stdout"
        },
        {
          "output_type": "execute_result",
          "data": {
            "text/plain": [
              "[0.5873734951019287, 0.853600025177002]"
            ]
          },
          "metadata": {
            "tags": []
          },
          "execution_count": 25
        }
      ]
    },
    {
      "cell_type": "markdown",
      "metadata": {
        "id": "p_qvKlgZxLbf"
      },
      "source": [
        "## Types of transfer learning\n",
        "\n",
        "- 'As is' : No change whjat so ever\n",
        "- 'Feature Extraction' : use preleared pattern of existing model, and adjusting it by adding layer after it(efficientnet trained on 1000 classes, we only use 10)\n",
        "- 'Fine-Tune' : use prelearned patter of existing model and 'fine-tune' the underlying layers"
      ]
    },
    {
      "cell_type": "markdown",
      "metadata": {
        "id": "lj-QmiZxwRd_"
      },
      "source": [
        "# Comparing Model\n",
        "\n",
        "we could compare the two models just by looking at the performance they output, but what if we have more than 2? say 5 or so, this is where we use TensorBoard to track it."
      ]
    },
    {
      "cell_type": "code",
      "metadata": {
        "colab": {
          "base_uri": "https://localhost:8080/"
        },
        "id": "PP1UngLOws4L",
        "outputId": "80345266-517d-46dc-9883-f9b88c3dc22c"
      },
      "source": [
        "# Upload TensorBoard dev records\n",
        "!tensorboard dev upload --logdir ./tensorflow_hub/ \\\n",
        "  --name \"EfficientNetB0 vs. ResNet50V2\" \\\n",
        "  --description \"Comparing two different TF Hub feature extraction models architectures using 10% of training images\" \\\n",
        "  --one_shot"
      ],
      "execution_count": 26,
      "outputs": [
        {
          "output_type": "stream",
          "text": [
            "2021-05-23 10:34:26.770648: I tensorflow/stream_executor/platform/default/dso_loader.cc:49] Successfully opened dynamic library libcudart.so.11.0\n",
            "\n",
            "***** TensorBoard Uploader *****\n",
            "\n",
            "This will upload your TensorBoard logs to https://tensorboard.dev/ from\n",
            "the following directory:\n",
            "\n",
            "./tensorflow_hub/\n",
            "\n",
            "This TensorBoard will be visible to everyone. Do not upload sensitive\n",
            "data.\n",
            "\n",
            "Your use of this service is subject to Google's Terms of Service\n",
            "<https://policies.google.com/terms> and Privacy Policy\n",
            "<https://policies.google.com/privacy>, and TensorBoard.dev's Terms of Service\n",
            "<https://tensorboard.dev/policy/terms/>.\n",
            "\n",
            "This notice will not be shown again while you are logged into the uploader.\n",
            "To log out, run `tensorboard dev auth revoke`.\n",
            "\n",
            "Continue? (yes/NO) yes\n",
            "\n",
            "Please visit this URL to authorize this application: https://accounts.google.com/o/oauth2/auth?response_type=code&client_id=373649185512-8v619h5kft38l4456nm2dj4ubeqsrvh6.apps.googleusercontent.com&redirect_uri=urn%3Aietf%3Awg%3Aoauth%3A2.0%3Aoob&scope=openid+https%3A%2F%2Fwww.googleapis.com%2Fauth%2Fuserinfo.email&state=nr0Fr6WEOiZf8vLN9A4ONxHc5jl91K&prompt=consent&access_type=offline\n",
            "Enter the authorization code: 4/1AY0e-g5AsnlpGa3hRkeqbLY9f_NbYvvXiIqpIZF1WKA98zhom9Q_kEQSDgs\n",
            "\n",
            "Data for the \"text\" plugin is now uploaded to TensorBoard.dev! Note that uploaded data is public. If you do not want to upload data for this plugin, use the \"--plugins\" command line argument.\n",
            "\n",
            "New experiment created. View your TensorBoard at: https://tensorboard.dev/experiment/RdIZB907T2uJnS5u4SAYBw/\n",
            "\n",
            "\u001b[1m[2021-05-23T10:35:33]\u001b[0m Started scanning logdir.\n",
            "\u001b[1m[2021-05-23T10:35:37]\u001b[0m Total uploaded: 40 scalars, 0 tensors, 2 binary objects (5.7 MB)\n",
            "\u001b[1m[2021-05-23T10:35:37]\u001b[0m Done scanning logdir.\n",
            "\n",
            "\n",
            "Done. View your TensorBoard at https://tensorboard.dev/experiment/RdIZB907T2uJnS5u4SAYBw/\n"
          ],
          "name": "stdout"
        }
      ]
    },
    {
      "cell_type": "markdown",
      "metadata": {
        "id": "bo3_rIiDzCaK"
      },
      "source": [
        "[this is our experiment](https://tensorboard.dev/experiment/RdIZB907T2uJnS5u4SAYBw/)"
      ]
    },
    {
      "cell_type": "code",
      "metadata": {
        "colab": {
          "base_uri": "https://localhost:8080/"
        },
        "id": "WN-tsu2qyj2R",
        "outputId": "e71bc5ba-0dfc-44c9-9000-1621e6a50c7d"
      },
      "source": [
        "# Check out experiments\n",
        "!tensorboard dev list"
      ],
      "execution_count": 27,
      "outputs": [
        {
          "output_type": "stream",
          "text": [
            "2021-05-23 10:37:22.102855: I tensorflow/stream_executor/platform/default/dso_loader.cc:49] Successfully opened dynamic library libcudart.so.11.0\n",
            "Data for the \"text\" plugin is now uploaded to TensorBoard.dev! Note that uploaded data is public. If you do not want to upload data for this plugin, use the \"--plugins\" command line argument.\n",
            "https://tensorboard.dev/experiment/RdIZB907T2uJnS5u4SAYBw/\n",
            "\tName                 [No Name]\n",
            "\tDescription          [No Description]\n",
            "\tId                   RdIZB907T2uJnS5u4SAYBw\n",
            "\tCreated              2021-05-23 10:35:33 (1 minute ago)\n",
            "\tUpdated              2021-05-23 10:35:37 (1 minute ago)\n",
            "\tRuns                 4\n",
            "\tTags                 3\n",
            "\tScalars              40\n",
            "\tTensor bytes         0\n",
            "\tBinary object bytes  6020426\n",
            "Total: 1 experiment(s)\n"
          ],
          "name": "stdout"
        }
      ]
    },
    {
      "cell_type": "code",
      "metadata": {
        "id": "vkJSTG80zPSV"
      },
      "source": [
        "# Delete an experiment\n",
        "#!tensorboard dev delete --experiment_id id_here"
      ],
      "execution_count": null,
      "outputs": []
    }
  ]
}